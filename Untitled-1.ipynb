{
 "cells": [
  {
   "cell_type": "markdown",
   "id": "cf17580f",
   "metadata": {},
   "source": [
    "# How to Run This Jupyter Notebook in Visual Studio Code\n",
    "\n",
    "Follow these steps to open and execute the notebook file in Visual Studio Code."
   ]
  },
  {
   "cell_type": "markdown",
   "id": "e7f9c4c4",
   "metadata": {},
   "source": [
    "## 1. Open the Notebook in Visual Studio Code\n",
    "\n",
    "Open Visual Studio Code and use the **File > Open File** menu to open the `Notebook.ipynb` file located in the `Capstone-Project` folder.  \n",
    "Make sure you have the Python extension installed in Visual Studio Code for the best experience."
   ]
  },
  {
   "cell_type": "markdown",
   "id": "66a7c6f9",
   "metadata": {},
   "source": [
    "## 2. Run Individual Cells\n",
    "\n",
    "Click on any code cell and press <kbd>Shift</kbd>+<kbd>Enter</kbd> to execute it.  \n",
    "Alternatively, you can use the **Run** button that appears at the top of each cell to run them one by one."
   ]
  },
  {
   "cell_type": "markdown",
   "id": "739b3e31",
   "metadata": {},
   "source": [
    "## 3. View Output and Results\n",
    "\n",
    "After running a cell, the output will appear directly below that cell.  \n",
    "If you need to see additional logs or error messages, check the **Output** pane or the **Terminal** in Visual Studio Code."
   ]
  },
  {
   "cell_type": "markdown",
   "id": "abafd5c9",
   "metadata": {},
   "source": [
    "## 4. Install Required Packages\n",
    "\n",
    "If you encounter errors about missing packages, run the cells that contain `!pip install` commands (for example, `!pip install matplotlib` or `!pip install scikit-learn`).  \n",
    "This will install any dependencies needed for the notebook to run successfully."
   ]
  }
 ],
 "metadata": {
  "language_info": {
   "name": "python"
  }
 },
 "nbformat": 4,
 "nbformat_minor": 5
}
